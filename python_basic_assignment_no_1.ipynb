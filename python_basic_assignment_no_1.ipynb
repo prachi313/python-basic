{
  "nbformat": 4,
  "nbformat_minor": 0,
  "metadata": {
    "colab": {
      "provenance": []
    },
    "kernelspec": {
      "name": "python3",
      "display_name": "Python 3"
    },
    "language_info": {
      "name": "python"
    }
  },
  "cells": [
    {
      "cell_type": "markdown",
      "source": [
        "python basic"
      ],
      "metadata": {
        "id": "_qEYYQCLnv7D"
      }
    },
    {
      "cell_type": "markdown",
      "source": [
        "# 1.What is Python, and why is it popular?\n",
        "  => python is easy to use and effective, efficient and Python is a high-level, interpreted programming language known for its simplicity and readability.\n",
        "\n",
        "#2.What is an interpreter in Python?\n",
        "  =>An interpreter reads and executes Python code line-by-line. It translates high-level Python code into machine code during runtime, allowing for easier debugging and development.\n",
        "\n",
        "#3.What are pre-defined keywords in Python?\n",
        "  =>if,while,def,return,for\n",
        "\n",
        "#4.Can keywords be used as variable names?\n",
        "  =>no because they are reserved for specific Python syntax and functionality.\n",
        "\n",
        "#5.What is mutability in Python?\n",
        "  => mutability in python object value can be changed afer its created\n",
        "\n",
        "#6.Why are lists mutable, but tuples are immutable\n",
        "  =>list can be mutable because its designed for dynamic data allows to change the data\n",
        "  tuples can not be mutable beacause its fixed data protected from modification and other chnages\n",
        "\n",
        "#7.What is the difference between “==” and “is” operators in Python\n",
        "  =>\"==\" is comapre values\n",
        "    \"is\" is compare identity\n",
        "\n",
        "#8. What are logical operators in Python\n",
        "  => and, or, not are logical operator in python\n",
        "\n",
        "#9.What is type casting in Python\n",
        "  =>Type casting converts a variable from one type to another\n",
        "\n",
        "#10.What is the difference between implicit and explicit type casting\n",
        "  =>Implicit: Python automatically converts types (e.g., int + float becomes float).\n",
        "  Explicit: You manually convert types using functions like int(), str(), float(), etc.\n",
        "\n",
        "#11. What is the purpose of conditional statements in Python\n",
        "  =>They allow a program to make decisions based on conditions (e.g., if, elif, else) and control which blocks of code are executed.\n",
        "\n",
        "#12.How does the elif statement work\n",
        "  =>elif (short for \"else if\") checks another condition if the previous if condition was false. It’s used for multiple conditions:\n",
        "\n",
        "#13.What is the difference between for and while loops\n",
        "  =>for loop: Used to iterate over a sequence.\n",
        "  while loop: Repeats as long as a condition is True.\n",
        "\n",
        "#14.Describe a scenario where a while loop is more suitable than a for loop.\n",
        "  =>password = \"\"\n",
        "  while password != \"secret\":\n",
        "  password = input(\"Enter password: \")\n",
        "  in this example Use a while loop when the number of iterations isn't known in advance.\n"
      ],
      "metadata": {
        "id": "fTMk4K2-n4BE"
      }
    },
    {
      "cell_type": "markdown",
      "source": [],
      "metadata": {
        "id": "ATk0C0LhnUN4"
      }
    },
    {
      "cell_type": "markdown",
      "source": [],
      "metadata": {
        "id": "8VpSTqaBn5yz"
      }
    },
    {
      "cell_type": "markdown",
      "source": [
        "# practical questions"
      ],
      "metadata": {
        "id": "J9X5Mv5-uE7r"
      }
    },
    {
      "cell_type": "code",
      "source": [
        "#1.Write a Python program to print \"Hello, World!\"\"\n",
        "print(\"hello world\")\n"
      ],
      "metadata": {
        "colab": {
          "base_uri": "https://localhost:8080/"
        },
        "id": "fhZ1zGZtuQvC",
        "outputId": "04e3ff6a-8ac5-414d-f2ff-fcb49523dbd0"
      },
      "execution_count": null,
      "outputs": [
        {
          "output_type": "stream",
          "name": "stdout",
          "text": [
            "hello world\n"
          ]
        }
      ]
    },
    {
      "cell_type": "code",
      "source": [
        "#2.Write a Python program that displays your name and age\n",
        "name=(\"prachi\")\n",
        "age=(\"22\")\n",
        "print(name,age)"
      ],
      "metadata": {
        "colab": {
          "base_uri": "https://localhost:8080/"
        },
        "id": "RBJLfQVZvHmL",
        "outputId": "dd000bf2-64d4-4d7a-f044-3d7a16f5ad1e"
      },
      "execution_count": null,
      "outputs": [
        {
          "output_type": "stream",
          "name": "stdout",
          "text": [
            "prachi 22\n"
          ]
        }
      ]
    },
    {
      "cell_type": "code",
      "source": [
        "#3.Write code to print all the pre-defined keywords in Python using the keyword library\n",
        "import keyword\n",
        "print(keyword.kwlist)"
      ],
      "metadata": {
        "colab": {
          "base_uri": "https://localhost:8080/"
        },
        "id": "hll6BbqDv3Qj",
        "outputId": "aa8bb474-3841-44e2-9093-f51d4a917d54"
      },
      "execution_count": null,
      "outputs": [
        {
          "output_type": "stream",
          "name": "stdout",
          "text": [
            "['False', 'None', 'True', 'and', 'as', 'assert', 'async', 'await', 'break', 'class', 'continue', 'def', 'del', 'elif', 'else', 'except', 'finally', 'for', 'from', 'global', 'if', 'import', 'in', 'is', 'lambda', 'nonlocal', 'not', 'or', 'pass', 'raise', 'return', 'try', 'while', 'with', 'yield']\n"
          ]
        }
      ]
    },
    {
      "cell_type": "markdown",
      "source": [],
      "metadata": {
        "id": "ZKeYMzJTv_nj"
      }
    },
    {
      "cell_type": "code",
      "source": [
        "#4.Write a program that checks if a given word is a Python keyword.\n",
        "import keyword\n",
        "\n",
        "def check_keyword(word):\n",
        "    if keyword.iskeyword(word):\n",
        "        print(f\"'{word}' is a Python keyword.\")\n",
        "    else:\n",
        "        print(f\"'{word}' is NOT a Python keyword.\")\n",
        "\n",
        "check_keyword(\"for\")\n",
        "check_keyword(\"my_variable\")"
      ],
      "metadata": {
        "colab": {
          "base_uri": "https://localhost:8080/"
        },
        "id": "po2Trln_w3eb",
        "outputId": "3491738c-f9c2-4f98-eec4-0a323d59e207"
      },
      "execution_count": 33,
      "outputs": [
        {
          "output_type": "stream",
          "name": "stdout",
          "text": [
            "'for' is a Python keyword.\n",
            "'my_variable' is NOT a Python keyword.\n"
          ]
        }
      ]
    },
    {
      "cell_type": "code",
      "source": [
        "#5.Create a list and tuple in Python, and demonstrate how attempting to change an element works different\n",
        "my_list = [1,2,3]\n",
        "my_tuple=(1,2,3)\n",
        "print(my_list)\n",
        "print(my_tuple)\n"
      ],
      "metadata": {
        "colab": {
          "base_uri": "https://localhost:8080/"
        },
        "id": "K_RrZrDz4F9M",
        "outputId": "700fdf90-9d5a-48d6-fbe0-d4cae7ca80f3"
      },
      "execution_count": 36,
      "outputs": [
        {
          "output_type": "stream",
          "name": "stdout",
          "text": [
            "[1, 2, 3]\n",
            "(1, 2, 3)\n"
          ]
        }
      ]
    },
    {
      "cell_type": "code",
      "source": [
        "#6.Write a function to demonstrate the behavior of mutable and immutable arguments.\n",
        "def modify_number(x):\n",
        "    x = x + 1\n",
        "    print(\"Inside function (number x):\", x)  # This will show 6\n",
        "\n",
        "def modify_list(my_list):\n",
        "    my_list.append(4)\n",
        "    print(\"Inside function (list):\", my_list)  # This will show [1, 2, 3, 4]\n",
        "\n",
        "# Try with number (immutable)\n",
        "num = 5\n",
        "modify_number(num)\n",
        "print(\"Outside function (number num):\", num)  # This will show 5\n",
        "\n",
        "# Try with list (mutable)\n",
        "my_list = [1, 2, 3]\n",
        "modify_list(my_list)\n",
        "print(\"Outside function (list):\", my_list)    # This will show [1, 2, 3, 4]\n",
        "\n",
        "\n",
        "\n",
        "\n",
        "\n",
        "\n",
        "\n",
        "\n",
        "\n",
        "\n"
      ],
      "metadata": {
        "colab": {
          "base_uri": "https://localhost:8080/"
        },
        "id": "jBojjcfR5t7e",
        "outputId": "9c187d89-9760-441a-fd65-eaee1a957e58"
      },
      "execution_count": 37,
      "outputs": [
        {
          "output_type": "stream",
          "name": "stdout",
          "text": [
            "Inside function (number x): 6\n",
            "Outside function (number num): 5\n",
            "Inside function (list): [1, 2, 3, 4]\n",
            "Outside function (list): [1, 2, 3, 4]\n"
          ]
        }
      ]
    },
    {
      "cell_type": "code",
      "source": [
        "#7.Write a program that performs basic arithmetic operations on two user-input numbers.\n",
        "# Sample input values\n",
        "num1 = 10\n",
        "num2 = 5\n",
        "\n",
        "# Perform basic arithmetic operations\n",
        "addition = num1 + num2            # 10 + 5 = 15\n",
        "subtraction = num1 - num2         # 10 - 5 = 5\n",
        "multiplication = num1 * num2      # 10 * 5 = 50\n",
        "\n",
        "# Check for zero before division\n",
        "if num2 != 0:\n",
        "    division = num1 / num2        # 10 / 5 = 2.0\n",
        "else:\n",
        "    division = \"Cannot divide by zero\"\n",
        "\n",
        "# Print the results\n",
        "print(\"First number:\", num1)\n",
        "print(\"Second number:\", num2)\n",
        "print(\"Addition:\", addition)           # 15\n",
        "print(\"Subtraction:\", subtraction)     # 5\n",
        "print(\"Multiplication:\", multiplication)  # 50\n",
        "print(\"Division:\", division)           # 2.0\n"
      ],
      "metadata": {
        "colab": {
          "base_uri": "https://localhost:8080/"
        },
        "id": "RRuNZNx-nILy",
        "outputId": "5ef7b190-fc79-4700-c797-53d42ab1c3c3"
      },
      "execution_count": 40,
      "outputs": [
        {
          "output_type": "stream",
          "name": "stdout",
          "text": [
            "First number: 10\n",
            "Second number: 5\n",
            "Addition: 15\n",
            "Subtraction: 5\n",
            "Multiplication: 50\n",
            "Division: 2.0\n"
          ]
        }
      ]
    },
    {
      "cell_type": "code",
      "source": [
        "#8.Write a program to demonstrate the use of logical operators.\n",
        "# Sample values\n",
        "a = 10\n",
        "b = 5\n",
        "c = 15\n",
        "\n",
        "# Using logical AND\n",
        "result_and = (a > b) and (c > a)  # True and True → True\n",
        "\n",
        "# Using logical OR\n",
        "result_or = (a < b) or (c > a)    # False or True → True\n",
        "\n",
        "# Using logical NOT\n",
        "result_not = not(a < b)           # not(False) → True\n",
        "\n",
        "# Print the results\n",
        "print(\"a =\", a)\n",
        "print(\"b =\", b)\n",
        "print(\"c =\", c)\n",
        "print(\"(a > b) and (c > a):\", result_and)   # True\n",
        "print(\"(a < b) or (c > a):\", result_or)     # True\n",
        "print(\"not(a < b):\", result_not)            # True\n"
      ],
      "metadata": {
        "colab": {
          "base_uri": "https://localhost:8080/"
        },
        "id": "GprJsu48uhFh",
        "outputId": "d311a030-997f-4dc0-fd0f-cd5bb726f9e7"
      },
      "execution_count": 41,
      "outputs": [
        {
          "output_type": "stream",
          "name": "stdout",
          "text": [
            "a = 10\n",
            "b = 5\n",
            "c = 15\n",
            "(a > b) and (c > a): True\n",
            "(a < b) or (c > a): True\n",
            "not(a < b): True\n"
          ]
        }
      ]
    },
    {
      "cell_type": "code",
      "source": [
        "#9. Write a Python program to convert user input from string to integer, float, and boolean types\n",
        "# Sample string inputs\n",
        "str_int = \"25\"\n",
        "str_float = \"3.14\"\n",
        "str_bool = \"True\"   # You can also try \"False\"\n",
        "\n",
        "# Convert to integer\n",
        "int_value = int(str_int)       # \"25\" → 25\n",
        "\n",
        "# Convert to float\n",
        "float_value = float(str_float) # \"3.14\" → 3.14\n",
        "\n",
        "# Convert to boolean\n",
        "bool_value = str_bool.lower() == \"true\"  # \"True\" → True, \"False\" → False\n",
        "\n",
        "# Print results\n",
        "print(\"String to Integer:\", int_value)   # 25\n",
        "print(\"String to Float:\", float_value)   # 3.14\n",
        "print(\"String to Boolean:\", bool_value)  # True\n"
      ],
      "metadata": {
        "colab": {
          "base_uri": "https://localhost:8080/"
        },
        "id": "JPFfW-GFvGrI",
        "outputId": "f83c73de-c7f6-4d2d-cb67-b70130c5e295"
      },
      "execution_count": 42,
      "outputs": [
        {
          "output_type": "stream",
          "name": "stdout",
          "text": [
            "String to Integer: 25\n",
            "String to Float: 3.14\n",
            "String to Boolean: True\n"
          ]
        }
      ]
    },
    {
      "cell_type": "code",
      "source": [
        "#10.Write code to demonstrate type casting with list elements\n",
        "# Original list with string elements\n",
        "str_list = [\"10\", \"20\", \"30\"]\n",
        "\n",
        "# Convert string to integer\n",
        "int_list = [int(x) for x in str_list]  # ['10', '20', '30'] → [10, 20, 30]\n",
        "\n",
        "# Convert string to float\n",
        "float_list = [float(x) for x in str_list]  # ['10', '20', '30'] → [10.0, 20.0, 30.0]\n",
        "\n",
        "# Print results\n",
        "print(\"Original String List:\", str_list)\n",
        "print(\"List after converting to Integers:\", int_list)\n",
        "print(\"List after converting to Floats:\", float_list)\n"
      ],
      "metadata": {
        "colab": {
          "base_uri": "https://localhost:8080/"
        },
        "id": "CGVbNkKjvYoy",
        "outputId": "c4bcff09-d7b4-492f-98a9-39f6564b7dfd"
      },
      "execution_count": 43,
      "outputs": [
        {
          "output_type": "stream",
          "name": "stdout",
          "text": [
            "Original String List: ['10', '20', '30']\n",
            "List after converting to Integers: [10, 20, 30]\n",
            "List after converting to Floats: [10.0, 20.0, 30.0]\n"
          ]
        }
      ]
    },
    {
      "cell_type": "code",
      "source": [
        "#11. Write a program that checks if a number is positive, negative, or zero.\n",
        "# Given number\n",
        "num = -7\n",
        "\n",
        "# Check if the number is positive, negative, or zero\n",
        "if num > 0:\n",
        "    print(\"The number is positive.\")\n",
        "elif num < 0:\n",
        "    print(\"The number is negative.\")\n",
        "else:\n",
        "    print(\"The number is zero.\")\n"
      ],
      "metadata": {
        "colab": {
          "base_uri": "https://localhost:8080/"
        },
        "id": "AIFlEnzRvmPo",
        "outputId": "582e3053-570d-4876-b1a3-cbfbcfd78967"
      },
      "execution_count": 44,
      "outputs": [
        {
          "output_type": "stream",
          "name": "stdout",
          "text": [
            "The number is negative.\n"
          ]
        }
      ]
    },
    {
      "cell_type": "code",
      "source": [
        "#12.Write a for loop to print numbers from 1 to 10.\n",
        "# Using a for loop to print numbers from 1 to 10\n",
        "for num in range(1, 11):\n",
        "    print(num)\n"
      ],
      "metadata": {
        "colab": {
          "base_uri": "https://localhost:8080/"
        },
        "id": "KVVVn7lfv1ji",
        "outputId": "061e1820-cf66-4a19-fe26-aa256d193758"
      },
      "execution_count": 45,
      "outputs": [
        {
          "output_type": "stream",
          "name": "stdout",
          "text": [
            "1\n",
            "2\n",
            "3\n",
            "4\n",
            "5\n",
            "6\n",
            "7\n",
            "8\n",
            "9\n",
            "10\n"
          ]
        }
      ]
    },
    {
      "cell_type": "code",
      "source": [
        "#13.Write a Python program to find the sum of all even numbers between 1 and 50.\n",
        "# Initialize sum\n",
        "even_sum = 0\n",
        "\n",
        "# Loop through numbers from 1 to 50\n",
        "for num in range(1, 51):\n",
        "    if num % 2 == 0:          # Check if number is even\n",
        "        even_sum += num       # Add even number to sum\n",
        "\n",
        "# Print the final sum\n",
        "print(\"Sum of even numbers from 1 to 50 is:\", even_sum)\n",
        "\n"
      ],
      "metadata": {
        "colab": {
          "base_uri": "https://localhost:8080/"
        },
        "id": "UVXAgaCUwB-k",
        "outputId": "6a91238d-1e55-4971-d50d-e2839463a659"
      },
      "execution_count": 46,
      "outputs": [
        {
          "output_type": "stream",
          "name": "stdout",
          "text": [
            "Sum of even numbers from 1 to 50 is: 650\n"
          ]
        }
      ]
    },
    {
      "cell_type": "code",
      "source": [
        "#14.Write a program to reverse a string using a while loop.\n",
        "# Original string\n",
        "text = \"hello\"\n",
        "\n",
        "# Initialize variables\n",
        "reversed_text = \"\"\n",
        "index = len(text) - 1   # Start from the last character\n",
        "\n",
        "# While loop to reverse the string\n",
        "while index >= 0:\n",
        "    reversed_text += text[index]  # Add current character to reversed string\n",
        "    index -= 1                    # Move to the previous character\n",
        "\n",
        "# Print the result\n",
        "print(\"Original string:\", text)\n",
        "print(\"Reversed string:\", reversed_text)\n"
      ],
      "metadata": {
        "colab": {
          "base_uri": "https://localhost:8080/"
        },
        "id": "AJmJH-BWwbFi",
        "outputId": "95fef4af-08fa-463b-a550-c073b966e075"
      },
      "execution_count": 47,
      "outputs": [
        {
          "output_type": "stream",
          "name": "stdout",
          "text": [
            "Original string: hello\n",
            "Reversed string: olleh\n"
          ]
        }
      ]
    },
    {
      "cell_type": "code",
      "source": [
        "#15.Write a Python program to calculate the factorial of a number provided by the user using a while loop\n",
        "# Given number\n",
        "number = 5\n",
        "\n",
        "# Initialize variables\n",
        "factorial = 1\n",
        "i = 1\n",
        "\n",
        "# While loop to calculate factorial\n",
        "while i <= number:\n",
        "    factorial *= i      # Multiply factorial by current value of i\n",
        "    i += 1              # Increase i by 1\n",
        "\n",
        "# Print the result\n",
        "print(\"Factorial of\", number, \"is:\", factorial)\n"
      ],
      "metadata": {
        "colab": {
          "base_uri": "https://localhost:8080/"
        },
        "id": "kao07astwmtx",
        "outputId": "30aa97c5-0d95-48e6-beb4-ae055d0b8390"
      },
      "execution_count": 48,
      "outputs": [
        {
          "output_type": "stream",
          "name": "stdout",
          "text": [
            "Factorial of 5 is: 120\n"
          ]
        }
      ]
    }
  ]
}